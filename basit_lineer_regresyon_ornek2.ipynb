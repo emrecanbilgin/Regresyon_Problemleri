{
 "cells": [
  {
   "cell_type": "code",
   "execution_count": 1,
   "id": "3c4fc573",
   "metadata": {},
   "outputs": [],
   "source": [
    "import numpy as np\n",
    "import pandas as pd\n",
    "import matplotlib.pyplot as plt"
   ]
  },
  {
   "cell_type": "code",
   "execution_count": 2,
   "id": "6ddcab62",
   "metadata": {},
   "outputs": [
    {
     "data": {
      "text/plain": [
       "array([[ 2,  4],\n",
       "       [-2,  0],\n",
       "       [ 3,  5],\n",
       "       [ 1,  1],\n",
       "       [-1,  2]], dtype=int64)"
      ]
     },
     "execution_count": 2,
     "metadata": {},
     "output_type": "execute_result"
    }
   ],
   "source": [
    "df = pd.read_excel(\"tugbahoca.xlsx\")\n",
    "\n",
    "df = np.array(df)\n",
    "df"
   ]
  },
  {
   "cell_type": "code",
   "execution_count": 3,
   "id": "8fa83e31",
   "metadata": {},
   "outputs": [],
   "source": [
    "x1 = np.split(df, 2, axis=1)[0]\n",
    "y = np.split(df, 2, axis=1)[1]"
   ]
  },
  {
   "cell_type": "code",
   "execution_count": 4,
   "id": "3daa10a8",
   "metadata": {},
   "outputs": [
    {
     "data": {
      "text/plain": [
       "array([[4],\n",
       "       [0],\n",
       "       [5],\n",
       "       [1],\n",
       "       [2]], dtype=int64)"
      ]
     },
     "execution_count": 4,
     "metadata": {},
     "output_type": "execute_result"
    }
   ],
   "source": [
    "# y yanıt vektörümüz\n",
    "y "
   ]
  },
  {
   "cell_type": "code",
   "execution_count": 5,
   "id": "bec0ec34",
   "metadata": {},
   "outputs": [
    {
     "data": {
      "text/plain": [
       "array([[ 2],\n",
       "       [-2],\n",
       "       [ 3],\n",
       "       [ 1],\n",
       "       [-1]], dtype=int64)"
      ]
     },
     "execution_count": 5,
     "metadata": {},
     "output_type": "execute_result"
    }
   ],
   "source": [
    "# x regresör matrisimizi oluşturacağız\n",
    "x1 "
   ]
  },
  {
   "cell_type": "code",
   "execution_count": 6,
   "id": "bb09bfdb",
   "metadata": {},
   "outputs": [],
   "source": [
    "# regresör matrisimize ekleyeceğimiz B0 matrisimiz\n",
    "a = np.ones((5,1), dtype=int) # dtype'ı int olan 1x5 boyutunda 1'lerden oluşan bir matris oluştur\n"
   ]
  },
  {
   "cell_type": "code",
   "execution_count": 7,
   "id": "6e6751b3",
   "metadata": {},
   "outputs": [
    {
     "data": {
      "text/plain": [
       "array([[ 1,  2],\n",
       "       [ 1, -2],\n",
       "       [ 1,  3],\n",
       "       [ 1,  1],\n",
       "       [ 1, -1]], dtype=int64)"
      ]
     },
     "execution_count": 7,
     "metadata": {},
     "output_type": "execute_result"
    }
   ],
   "source": [
    "x = np.append(a, x1, axis=1) # x1'e a'yı sütun olarak ekle \"AYNI BOYUTTA OLMALILAR\"\n",
    "x"
   ]
  },
  {
   "cell_type": "code",
   "execution_count": 8,
   "id": "3017ba58",
   "metadata": {},
   "outputs": [
    {
     "data": {
      "text/plain": [
       "array([[ 1,  1,  1,  1,  1],\n",
       "       [ 2, -2,  3,  1, -1]], dtype=int64)"
      ]
     },
     "execution_count": 8,
     "metadata": {},
     "output_type": "execute_result"
    }
   ],
   "source": [
    "# Beta şapka = [x'x]tersi . x'y dir \n",
    "transpose_x = np.transpose(x)\n",
    "transpose_x"
   ]
  },
  {
   "cell_type": "code",
   "execution_count": 77,
   "id": "16c39921",
   "metadata": {},
   "outputs": [
    {
     "data": {
      "text/plain": [
       "array([[ 5,  3],\n",
       "       [ 3, 19]], dtype=int64)"
      ]
     },
     "execution_count": 77,
     "metadata": {},
     "output_type": "execute_result"
    }
   ],
   "source": [
    "tersi_alınacak_degisken = transpose_x.dot(x) # x'x i bulduk\n",
    "tersi_alınacak_degisken"
   ]
  },
  {
   "cell_type": "code",
   "execution_count": 78,
   "id": "ba74bacc",
   "metadata": {},
   "outputs": [
    {
     "data": {
      "text/plain": [
       "array([[ 0.22093023, -0.03488372],\n",
       "       [-0.03488372,  0.05813953]])"
      ]
     },
     "execution_count": 78,
     "metadata": {},
     "output_type": "execute_result"
    }
   ],
   "source": [
    "# tersini alalım\n",
    "inverse_x = np.linalg.inv(tersi_alınacak_degisken)\n",
    "inverse_x"
   ]
  },
  {
   "cell_type": "code",
   "execution_count": 79,
   "id": "88745b7d",
   "metadata": {},
   "outputs": [
    {
     "data": {
      "text/plain": [
       "array([[12],\n",
       "       [22]], dtype=int64)"
      ]
     },
     "execution_count": 79,
     "metadata": {},
     "output_type": "execute_result"
    }
   ],
   "source": [
    "# x'y yi bulalım\n",
    "c = transpose_x.dot(y)\n",
    "c"
   ]
  },
  {
   "cell_type": "code",
   "execution_count": 82,
   "id": "3688b776",
   "metadata": {},
   "outputs": [
    {
     "data": {
      "text/plain": [
       "array([[1.88372093],\n",
       "       [0.86046512]])"
      ]
     },
     "execution_count": 82,
     "metadata": {},
     "output_type": "execute_result"
    }
   ],
   "source": [
    "# Beta şapka bulalım\n",
    "beta_sapka = inverse_x.dot(c)\n",
    "beta_sapka"
   ]
  },
  {
   "cell_type": "code",
   "execution_count": 81,
   "id": "54f5a555",
   "metadata": {},
   "outputs": [],
   "source": [
    "# Yukarıda y şapkayı bulmuş olduk yşapka = 1.88 + 0.86x"
   ]
  },
  {
   "cell_type": "code",
   "execution_count": null,
   "id": "2cb902dd",
   "metadata": {},
   "outputs": [],
   "source": []
  }
 ],
 "metadata": {
  "kernelspec": {
   "display_name": "Python 3 (ipykernel)",
   "language": "python",
   "name": "python3"
  },
  "language_info": {
   "codemirror_mode": {
    "name": "ipython",
    "version": 3
   },
   "file_extension": ".py",
   "mimetype": "text/x-python",
   "name": "python",
   "nbconvert_exporter": "python",
   "pygments_lexer": "ipython3",
   "version": "3.10.9"
  }
 },
 "nbformat": 4,
 "nbformat_minor": 5
}
