{
 "cells": [
  {
   "cell_type": "code",
   "execution_count": 15,
   "id": "afb90f51",
   "metadata": {},
   "outputs": [],
   "source": [
    "import numpy as np\n",
    "import pandas as pd\n",
    "import matplotlib.pyplot as plt"
   ]
  },
  {
   "cell_type": "code",
   "execution_count": 16,
   "id": "05aed2fd",
   "metadata": {},
   "outputs": [
    {
     "data": {
      "text/html": [
       "<div>\n",
       "<style scoped>\n",
       "    .dataframe tbody tr th:only-of-type {\n",
       "        vertical-align: middle;\n",
       "    }\n",
       "\n",
       "    .dataframe tbody tr th {\n",
       "        vertical-align: top;\n",
       "    }\n",
       "\n",
       "    .dataframe thead th {\n",
       "        text-align: right;\n",
       "    }\n",
       "</style>\n",
       "<table border=\"1\" class=\"dataframe\">\n",
       "  <thead>\n",
       "    <tr style=\"text-align: right;\">\n",
       "      <th></th>\n",
       "      <th>Gelir(X)</th>\n",
       "      <th>Eğitim(Y)</th>\n",
       "    </tr>\n",
       "  </thead>\n",
       "  <tbody>\n",
       "    <tr>\n",
       "      <th>0</th>\n",
       "      <td>13</td>\n",
       "      <td>3</td>\n",
       "    </tr>\n",
       "    <tr>\n",
       "      <th>1</th>\n",
       "      <td>18</td>\n",
       "      <td>4</td>\n",
       "    </tr>\n",
       "    <tr>\n",
       "      <th>2</th>\n",
       "      <td>24</td>\n",
       "      <td>6</td>\n",
       "    </tr>\n",
       "    <tr>\n",
       "      <th>3</th>\n",
       "      <td>31</td>\n",
       "      <td>9</td>\n",
       "    </tr>\n",
       "    <tr>\n",
       "      <th>4</th>\n",
       "      <td>25</td>\n",
       "      <td>8</td>\n",
       "    </tr>\n",
       "    <tr>\n",
       "      <th>5</th>\n",
       "      <td>45</td>\n",
       "      <td>15</td>\n",
       "    </tr>\n",
       "    <tr>\n",
       "      <th>6</th>\n",
       "      <td>54</td>\n",
       "      <td>11</td>\n",
       "    </tr>\n",
       "  </tbody>\n",
       "</table>\n",
       "</div>"
      ],
      "text/plain": [
       "   Gelir(X)  Eğitim(Y)\n",
       "0        13          3\n",
       "1        18          4\n",
       "2        24          6\n",
       "3        31          9\n",
       "4        25          8\n",
       "5        45         15\n",
       "6        54         11"
      ]
     },
     "execution_count": 16,
     "metadata": {},
     "output_type": "execute_result"
    }
   ],
   "source": [
    "data = pd.read_excel(\"tugbahocaders.xlsx\")\n",
    "data"
   ]
  },
  {
   "cell_type": "code",
   "execution_count": 17,
   "id": "09fb7a9a",
   "metadata": {},
   "outputs": [
    {
     "data": {
      "text/plain": [
       "array([[13,  3],\n",
       "       [18,  4],\n",
       "       [24,  6],\n",
       "       [31,  9],\n",
       "       [25,  8],\n",
       "       [45, 15],\n",
       "       [54, 11]], dtype=int64)"
      ]
     },
     "execution_count": 17,
     "metadata": {},
     "output_type": "execute_result"
    }
   ],
   "source": [
    "data = np.array(data) # datayı matris haline getirelim\n",
    "data"
   ]
  },
  {
   "cell_type": "code",
   "execution_count": 18,
   "id": "3bd98649",
   "metadata": {},
   "outputs": [],
   "source": [
    "x = np.split(data, 2, axis=1)[0] # datayı x ve ye olarak iki matrise ayıralım\n",
    "y = np.split(data, 2, axis=1)[1]\n"
   ]
  },
  {
   "cell_type": "code",
   "execution_count": 19,
   "id": "c018d7a3",
   "metadata": {},
   "outputs": [
    {
     "data": {
      "text/plain": [
       "array([[13],\n",
       "       [18],\n",
       "       [24],\n",
       "       [31],\n",
       "       [25],\n",
       "       [45],\n",
       "       [54]], dtype=int64)"
      ]
     },
     "execution_count": 19,
     "metadata": {},
     "output_type": "execute_result"
    }
   ],
   "source": [
    "x # katsayılar matrisi"
   ]
  },
  {
   "cell_type": "code",
   "execution_count": 20,
   "id": "1fca7986",
   "metadata": {},
   "outputs": [
    {
     "data": {
      "text/plain": [
       "array([[ 3],\n",
       "       [ 4],\n",
       "       [ 6],\n",
       "       [ 9],\n",
       "       [ 8],\n",
       "       [15],\n",
       "       [11]], dtype=int64)"
      ]
     },
     "execution_count": 20,
     "metadata": {},
     "output_type": "execute_result"
    }
   ],
   "source": [
    "y # yanıt vektörü"
   ]
  },
  {
   "cell_type": "code",
   "execution_count": 14,
   "id": "dba04db9",
   "metadata": {},
   "outputs": [
    {
     "data": {
      "text/plain": [
       "array([[ 1, 13],\n",
       "       [ 1, 18],\n",
       "       [ 1, 24],\n",
       "       [ 1, 31],\n",
       "       [ 1, 25],\n",
       "       [ 1, 45],\n",
       "       [ 1, 54]], dtype=int64)"
      ]
     },
     "execution_count": 14,
     "metadata": {},
     "output_type": "execute_result"
    }
   ],
   "source": [
    "a = np.ones((7,1), dtype=int) # x matrisine 1'lerden oluşan b0 ı temsil eden vektörümüzü ekleyelim\n",
    "\n",
    "x1 = np.append(a, x, axis=1)\n",
    "x1"
   ]
  },
  {
   "cell_type": "code",
   "execution_count": 9,
   "id": "ff0279f7",
   "metadata": {},
   "outputs": [],
   "source": [
    "transpose_x1 = np.transpose(x1) # transpozunu alalım"
   ]
  },
  {
   "cell_type": "code",
   "execution_count": 10,
   "id": "8232d89c",
   "metadata": {},
   "outputs": [
    {
     "data": {
      "text/plain": [
       "array([[   7,  210],\n",
       "       [ 210, 7596]], dtype=int64)"
      ]
     },
     "execution_count": 10,
     "metadata": {},
     "output_type": "execute_result"
    }
   ],
   "source": [
    "c = transpose_x1.dot(x1) # transpozu ile kendisini çarpalım\n",
    "c"
   ]
  },
  {
   "cell_type": "code",
   "execution_count": 11,
   "id": "17b791e3",
   "metadata": {},
   "outputs": [
    {
     "data": {
      "text/plain": [
       "array([[ 8.37301587e-01, -2.31481481e-02],\n",
       "       [-2.31481481e-02,  7.71604938e-04]])"
      ]
     },
     "execution_count": 11,
     "metadata": {},
     "output_type": "execute_result"
    }
   ],
   "source": [
    "inverse_x = np.linalg.inv(c) # transpozunu alıp çarptığımız değerin tersini alalım\n",
    "inverse_x"
   ]
  },
  {
   "cell_type": "code",
   "execution_count": 12,
   "id": "8e254b82",
   "metadata": {},
   "outputs": [
    {
     "data": {
      "text/plain": [
       "array([[  56],\n",
       "       [2003]], dtype=int64)"
      ]
     },
     "execution_count": 12,
     "metadata": {},
     "output_type": "execute_result"
    }
   ],
   "source": [
    "g = transpose_x1.dot(y) # x'y kısmı\n",
    "g"
   ]
  },
  {
   "cell_type": "code",
   "execution_count": 13,
   "id": "b487d214",
   "metadata": {},
   "outputs": [
    {
     "data": {
      "text/plain": [
       "array([[0.52314815],\n",
       "       [0.2492284 ]])"
      ]
     },
     "execution_count": 13,
     "metadata": {},
     "output_type": "execute_result"
    }
   ],
   "source": [
    "final_model = inverse_x.dot(g) # formülü komple yerine yazıyoruz = [x'x]tersi . x'y\n",
    "final_model"
   ]
  },
  {
   "cell_type": "code",
   "execution_count": 22,
   "id": "258b85c8",
   "metadata": {},
   "outputs": [],
   "source": [
    "# y = 0.5231 + 0.2492x fit edilen modelimiz"
   ]
  },
  {
   "cell_type": "code",
   "execution_count": null,
   "id": "32475b64",
   "metadata": {},
   "outputs": [],
   "source": []
  }
 ],
 "metadata": {
  "kernelspec": {
   "display_name": "Python 3 (ipykernel)",
   "language": "python",
   "name": "python3"
  },
  "language_info": {
   "codemirror_mode": {
    "name": "ipython",
    "version": 3
   },
   "file_extension": ".py",
   "mimetype": "text/x-python",
   "name": "python",
   "nbconvert_exporter": "python",
   "pygments_lexer": "ipython3",
   "version": "3.10.9"
  }
 },
 "nbformat": 4,
 "nbformat_minor": 5
}
