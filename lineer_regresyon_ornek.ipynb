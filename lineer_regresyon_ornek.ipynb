{
 "cells": [
  {
   "cell_type": "code",
   "execution_count": 21,
   "id": "d263ca2a",
   "metadata": {},
   "outputs": [],
   "source": [
    "import numpy as np\n",
    "import pandas as pd\n",
    "import matplotlib.pyplot as plt"
   ]
  },
  {
   "cell_type": "code",
   "execution_count": 22,
   "id": "14092563",
   "metadata": {},
   "outputs": [
    {
     "data": {
      "text/plain": [
       "array([[ 6,  1,  1],\n",
       "       [ 6,  2,  1],\n",
       "       [11,  2,  2],\n",
       "       [ 9,  1,  3],\n",
       "       [16,  3,  3],\n",
       "       [16,  1,  5],\n",
       "       [ 4,  1,  1],\n",
       "       [ 8,  3,  1],\n",
       "       [11,  2,  2],\n",
       "       [13,  1,  2]], dtype=int64)"
      ]
     },
     "execution_count": 22,
     "metadata": {},
     "output_type": "execute_result"
    }
   ],
   "source": [
    "data = pd.read_excel(\"tugbahocaders2.xlsx\") #datayı aldık\n",
    "\n",
    "data = np.array(data)\n",
    "data"
   ]
  },
  {
   "cell_type": "code",
   "execution_count": 23,
   "id": "bcd9adef",
   "metadata": {},
   "outputs": [],
   "source": [
    "y = np.split(data, 3, axis=1)[0] # bağımlı ve bağımsız değiskenler olusturuldu\n",
    "x1 = np.split(data, 3, axis=1)[1]\n",
    "x2 = np.split(data, 3, axis=1)[2]"
   ]
  },
  {
   "cell_type": "code",
   "execution_count": 24,
   "id": "c939d016",
   "metadata": {},
   "outputs": [
    {
     "data": {
      "text/plain": [
       "array([[ 6],\n",
       "       [ 6],\n",
       "       [11],\n",
       "       [ 9],\n",
       "       [16],\n",
       "       [16],\n",
       "       [ 4],\n",
       "       [ 8],\n",
       "       [11],\n",
       "       [13]], dtype=int64)"
      ]
     },
     "execution_count": 24,
     "metadata": {},
     "output_type": "execute_result"
    }
   ],
   "source": [
    "y"
   ]
  },
  {
   "cell_type": "code",
   "execution_count": 25,
   "id": "0f342d37",
   "metadata": {},
   "outputs": [],
   "source": [
    "ones = np.ones((10,1), dtype=int) # Beta 0 icin katsayılarımız"
   ]
  },
  {
   "cell_type": "code",
   "execution_count": 26,
   "id": "34d40b13",
   "metadata": {},
   "outputs": [
    {
     "data": {
      "text/plain": [
       "array([[1, 1],\n",
       "       [2, 1],\n",
       "       [2, 2],\n",
       "       [1, 3],\n",
       "       [3, 3],\n",
       "       [1, 5],\n",
       "       [1, 1],\n",
       "       [3, 1],\n",
       "       [2, 2],\n",
       "       [1, 2]], dtype=int64)"
      ]
     },
     "execution_count": 26,
     "metadata": {},
     "output_type": "execute_result"
    }
   ],
   "source": [
    "reg1 = np.append(x1, x2, axis=1) #katsayılar matrisi icin bağımsız degiskenleri birlestirdik\n",
    "reg1"
   ]
  },
  {
   "cell_type": "code",
   "execution_count": 27,
   "id": "9fe32950",
   "metadata": {},
   "outputs": [
    {
     "data": {
      "text/plain": [
       "array([[1, 1, 1],\n",
       "       [1, 2, 1],\n",
       "       [1, 2, 2],\n",
       "       [1, 1, 3],\n",
       "       [1, 3, 3],\n",
       "       [1, 1, 5],\n",
       "       [1, 1, 1],\n",
       "       [1, 3, 1],\n",
       "       [1, 2, 2],\n",
       "       [1, 1, 2]], dtype=int64)"
      ]
     },
     "execution_count": 27,
     "metadata": {},
     "output_type": "execute_result"
    }
   ],
   "source": [
    "reg = np.append(ones, reg1, axis=1) # beta sıfır icin katsayıları olan 1'leri de ekledik\n",
    "reg"
   ]
  },
  {
   "cell_type": "code",
   "execution_count": 28,
   "id": "f56babf9",
   "metadata": {},
   "outputs": [
    {
     "data": {
      "text/plain": [
       "array([[1, 1, 1, 1, 1, 1, 1, 1, 1, 1],\n",
       "       [1, 2, 2, 1, 3, 1, 1, 3, 2, 1],\n",
       "       [1, 1, 2, 3, 3, 5, 1, 1, 2, 2]], dtype=int64)"
      ]
     },
     "execution_count": 28,
     "metadata": {},
     "output_type": "execute_result"
    }
   ],
   "source": [
    "transpose_reg = np.transpose(reg) # transpoz alma islemi\n",
    "transpose_reg"
   ]
  },
  {
   "cell_type": "code",
   "execution_count": 33,
   "id": "4d176856",
   "metadata": {},
   "outputs": [
    {
     "data": {
      "text/plain": [
       "array([[10, 17, 21],\n",
       "       [17, 35, 34],\n",
       "       [21, 34, 59]], dtype=int64)"
      ]
     },
     "execution_count": 33,
     "metadata": {},
     "output_type": "execute_result"
    }
   ],
   "source": [
    "tersi_alınacak_degisken = transpose_reg.dot(reg) #tersi almadan önce carpım\n",
    "tersi_alınacak_degisken"
   ]
  },
  {
   "cell_type": "code",
   "execution_count": 30,
   "id": "2ae16040",
   "metadata": {},
   "outputs": [
    {
     "data": {
      "text/plain": [
       "array([[ 1.03295455, -0.32840909, -0.17840909],\n",
       "       [-0.32840909,  0.16931818,  0.01931818],\n",
       "       [-0.17840909,  0.01931818,  0.06931818]])"
      ]
     },
     "execution_count": 30,
     "metadata": {},
     "output_type": "execute_result"
    }
   ],
   "source": [
    "inverse_reg = np.linalg.inv(tersi_alınacak_degisken) #ters alma\n",
    "inverse_reg"
   ]
  },
  {
   "cell_type": "code",
   "execution_count": 31,
   "id": "525d6e9e",
   "metadata": {},
   "outputs": [
    {
     "data": {
      "text/plain": [
       "array([[100],\n",
       "       [176],\n",
       "       [249]], dtype=int64)"
      ]
     },
     "execution_count": 31,
     "metadata": {},
     "output_type": "execute_result"
    }
   ],
   "source": [
    "# x'y yi bulalım\n",
    "c = transpose_reg.dot(y)\n",
    "c"
   ]
  },
  {
   "cell_type": "code",
   "execution_count": 32,
   "id": "6c4462bd",
   "metadata": {},
   "outputs": [
    {
     "data": {
      "text/plain": [
       "array([[1.07159091],\n",
       "       [1.76931818],\n",
       "       [2.81931818]])"
      ]
     },
     "execution_count": 32,
     "metadata": {},
     "output_type": "execute_result"
    }
   ],
   "source": [
    "beta_sapka = inverse_reg.dot(c) # b0, b1 ve b2 icin katsayılarımız\n",
    "beta_sapka"
   ]
  },
  {
   "cell_type": "code",
   "execution_count": 20,
   "id": "71726d9e",
   "metadata": {},
   "outputs": [
    {
     "data": {
      "text/plain": [
       "array([[1, 1, 1],\n",
       "       [1, 2, 1],\n",
       "       [1, 2, 2],\n",
       "       [1, 1, 3],\n",
       "       [1, 3, 3],\n",
       "       [1, 1, 9],\n",
       "       [1, 1, 1],\n",
       "       [1, 3, 1],\n",
       "       [1, 2, 2],\n",
       "       [1, 1, 2]], dtype=int64)"
      ]
     },
     "execution_count": 20,
     "metadata": {},
     "output_type": "execute_result"
    }
   ],
   "source": [
    "transpose_reg"
   ]
  },
  {
   "cell_type": "code",
   "execution_count": 46,
   "id": "f4364da9",
   "metadata": {},
   "outputs": [],
   "source": [
    "h = np.linalg.det(tersi_alınacak_degisken)"
   ]
  },
  {
   "cell_type": "code",
   "execution_count": 48,
   "id": "f2be86a3",
   "metadata": {},
   "outputs": [
    {
     "data": {
      "text/plain": [
       "array([[ 909., -289., -157.],\n",
       "       [-289.,  149.,   17.],\n",
       "       [-157.,   17.,   61.]])"
      ]
     },
     "execution_count": 48,
     "metadata": {},
     "output_type": "execute_result"
    }
   ],
   "source": [
    "adjoint_matrix = inverse_reg.dot(h)\n",
    "adjoint_matrix"
   ]
  },
  {
   "cell_type": "code",
   "execution_count": null,
   "id": "75a30d9d",
   "metadata": {},
   "outputs": [],
   "source": []
  },
  {
   "cell_type": "code",
   "execution_count": null,
   "id": "6f006a0a",
   "metadata": {},
   "outputs": [],
   "source": []
  }
 ],
 "metadata": {
  "kernelspec": {
   "display_name": "Python 3 (ipykernel)",
   "language": "python",
   "name": "python3"
  },
  "language_info": {
   "codemirror_mode": {
    "name": "ipython",
    "version": 3
   },
   "file_extension": ".py",
   "mimetype": "text/x-python",
   "name": "python",
   "nbconvert_exporter": "python",
   "pygments_lexer": "ipython3",
   "version": "3.10.9"
  }
 },
 "nbformat": 4,
 "nbformat_minor": 5
}
